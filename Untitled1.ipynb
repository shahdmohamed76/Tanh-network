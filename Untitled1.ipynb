{
 "cells": [
  {
   "cell_type": "code",
   "execution_count": 1,
   "id": "cd8d5f46-7e90-4892-8e4e-2413a88c7f4c",
   "metadata": {},
   "outputs": [],
   "source": [
    "import math\n",
    "import random"
   ]
  },
  {
   "cell_type": "code",
   "execution_count": 2,
   "id": "bd9b9563-75ed-4119-894e-39726002f5ba",
   "metadata": {},
   "outputs": [
    {
     "name": "stdout",
     "output_type": "stream",
     "text": [
      "Input: x1=-0.545, x2=0.211\n",
      "Hidden Layer: h1=0.433, h2=0.505\n",
      "Output: O= 0.728\n"
     ]
    }
   ],
   "source": [
    "def tanh(x):\n",
    "    return math.tanh(x)\n",
    "\n",
    "\n",
    "weights_input_hidden = [[random.uniform(-0.5, 0.5) for _ in range(2)] for _ in range(2)]\n",
    "bias_hidden = [0.5, 0.5]\n",
    "weights_hidden_output = [random.uniform(-0.5, 0.5) for _ in range(2)]\n",
    "bias_output = 0.7\n",
    "\n",
    "inputs = [random.uniform(-1, 1) for _ in range(2)]\n",
    "\n",
    "hidden_layer = [tanh(sum(weights_input_hidden[i][j] * inputs[j] for j in range(2)) + bias_hidden[i]) for i in range(2)]\n",
    "\n",
    "output = tanh(sum(weights_hidden_output[i] * hidden_layer[i] for i in range(2)) + bias_output)\n",
    "\n",
    "print(f\"Input: x1={inputs[0]:.3f}, x2={inputs[1]:.3f}\")\n",
    "print(f\"Hidden Layer: h1={hidden_layer[0]:.3f}, h2={hidden_layer[1]:.3f}\")\n",
    "print(f\"Output: O= {output:.3f}\")"
   ]
  },
  {
   "cell_type": "code",
   "execution_count": null,
   "id": "504aff1a-6953-4e42-b8f6-7fc549f26eff",
   "metadata": {},
   "outputs": [],
   "source": []
  }
 ],
 "metadata": {
  "kernelspec": {
   "display_name": "Python 3 (ipykernel)",
   "language": "python",
   "name": "python3"
  },
  "language_info": {
   "codemirror_mode": {
    "name": "ipython",
    "version": 3
   },
   "file_extension": ".py",
   "mimetype": "text/x-python",
   "name": "python",
   "nbconvert_exporter": "python",
   "pygments_lexer": "ipython3",
   "version": "3.12.4"
  }
 },
 "nbformat": 4,
 "nbformat_minor": 5
}
